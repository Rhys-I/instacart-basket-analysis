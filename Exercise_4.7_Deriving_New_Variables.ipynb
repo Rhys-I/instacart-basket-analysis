{
 "cells": [
  {
   "cell_type": "markdown",
   "id": "ced40e52",
   "metadata": {},
   "source": [
    "# 📒 Exercise 4.7: Deriving New Variables\n",
    "\n",
    "**Table of Contents:**\n",
    "1. Introduction\n",
    "2. Import Libraries & Data\n",
    "3. Create 'price_label' Column\n",
    "4. Create 'busiest_day' Column\n",
    "5. Update 'busiest_day' to 'busiest_days'\n",
    "6. Create 'busiest_period_of_day' Column\n",
    "7. Export Data\n",
    "8. Reflection"
   ]
  },
  {
   "cell_type": "markdown",
   "id": "0d6b0069",
   "metadata": {},
   "source": [
    "## 1️⃣ Introduction\n",
    "\n",
    "In this notebook, we derive new variables from the Instacart dataset using `if-statements`, `for-loops`, and the `loc()` method. The goal is to practice creating flags and summary columns that are useful for further analysis."
   ]
  },
  {
   "cell_type": "markdown",
   "id": "49ac9ad0",
   "metadata": {},
   "source": [
    "## 2️⃣ Import Libraries & Data"
   ]
  },
  {
   "cell_type": "code",
   "execution_count": 4,
   "id": "4e272465",
   "metadata": {},
   "outputs": [
    {
     "data": {
      "text/html": [
       "<div>\n",
       "<style scoped>\n",
       "    .dataframe tbody tr th:only-of-type {\n",
       "        vertical-align: middle;\n",
       "    }\n",
       "\n",
       "    .dataframe tbody tr th {\n",
       "        vertical-align: top;\n",
       "    }\n",
       "\n",
       "    .dataframe thead th {\n",
       "        text-align: right;\n",
       "    }\n",
       "</style>\n",
       "<table border=\"1\" class=\"dataframe\">\n",
       "  <thead>\n",
       "    <tr style=\"text-align: right;\">\n",
       "      <th></th>\n",
       "      <th>Unnamed: 0.1_x</th>\n",
       "      <th>Unnamed: 0_x</th>\n",
       "      <th>order_id</th>\n",
       "      <th>user_id</th>\n",
       "      <th>order_number</th>\n",
       "      <th>order_day_of_week</th>\n",
       "      <th>order_hour_of_day</th>\n",
       "      <th>days_since_prior_order</th>\n",
       "      <th>product_id</th>\n",
       "      <th>add_to_cart_order</th>\n",
       "      <th>reordered</th>\n",
       "      <th>_merge</th>\n",
       "      <th>Unnamed: 0.1_y</th>\n",
       "      <th>Unnamed: 0_y</th>\n",
       "      <th>product_name</th>\n",
       "      <th>aisle_id</th>\n",
       "      <th>department_id</th>\n",
       "      <th>prices</th>\n",
       "      <th>merge_status</th>\n",
       "    </tr>\n",
       "  </thead>\n",
       "  <tbody>\n",
       "    <tr>\n",
       "      <th>0</th>\n",
       "      <td>1</td>\n",
       "      <td>1</td>\n",
       "      <td>2398795</td>\n",
       "      <td>1</td>\n",
       "      <td>2</td>\n",
       "      <td>3</td>\n",
       "      <td>7</td>\n",
       "      <td>15.0</td>\n",
       "      <td>196</td>\n",
       "      <td>1</td>\n",
       "      <td>1</td>\n",
       "      <td>both</td>\n",
       "      <td>195</td>\n",
       "      <td>195</td>\n",
       "      <td>Soda</td>\n",
       "      <td>77</td>\n",
       "      <td>7</td>\n",
       "      <td>9.0</td>\n",
       "      <td>both</td>\n",
       "    </tr>\n",
       "    <tr>\n",
       "      <th>1</th>\n",
       "      <td>1</td>\n",
       "      <td>1</td>\n",
       "      <td>2398795</td>\n",
       "      <td>1</td>\n",
       "      <td>2</td>\n",
       "      <td>3</td>\n",
       "      <td>7</td>\n",
       "      <td>15.0</td>\n",
       "      <td>10258</td>\n",
       "      <td>2</td>\n",
       "      <td>0</td>\n",
       "      <td>both</td>\n",
       "      <td>10258</td>\n",
       "      <td>10258</td>\n",
       "      <td>Pistachios</td>\n",
       "      <td>117</td>\n",
       "      <td>19</td>\n",
       "      <td>3.0</td>\n",
       "      <td>both</td>\n",
       "    </tr>\n",
       "    <tr>\n",
       "      <th>2</th>\n",
       "      <td>1</td>\n",
       "      <td>1</td>\n",
       "      <td>2398795</td>\n",
       "      <td>1</td>\n",
       "      <td>2</td>\n",
       "      <td>3</td>\n",
       "      <td>7</td>\n",
       "      <td>15.0</td>\n",
       "      <td>12427</td>\n",
       "      <td>3</td>\n",
       "      <td>1</td>\n",
       "      <td>both</td>\n",
       "      <td>12427</td>\n",
       "      <td>12427</td>\n",
       "      <td>Original Beef Jerky</td>\n",
       "      <td>23</td>\n",
       "      <td>19</td>\n",
       "      <td>4.4</td>\n",
       "      <td>both</td>\n",
       "    </tr>\n",
       "    <tr>\n",
       "      <th>3</th>\n",
       "      <td>1</td>\n",
       "      <td>1</td>\n",
       "      <td>2398795</td>\n",
       "      <td>1</td>\n",
       "      <td>2</td>\n",
       "      <td>3</td>\n",
       "      <td>7</td>\n",
       "      <td>15.0</td>\n",
       "      <td>13176</td>\n",
       "      <td>4</td>\n",
       "      <td>0</td>\n",
       "      <td>both</td>\n",
       "      <td>13176</td>\n",
       "      <td>13176</td>\n",
       "      <td>Bag of Organic Bananas</td>\n",
       "      <td>24</td>\n",
       "      <td>4</td>\n",
       "      <td>10.3</td>\n",
       "      <td>both</td>\n",
       "    </tr>\n",
       "    <tr>\n",
       "      <th>4</th>\n",
       "      <td>1</td>\n",
       "      <td>1</td>\n",
       "      <td>2398795</td>\n",
       "      <td>1</td>\n",
       "      <td>2</td>\n",
       "      <td>3</td>\n",
       "      <td>7</td>\n",
       "      <td>15.0</td>\n",
       "      <td>26088</td>\n",
       "      <td>5</td>\n",
       "      <td>1</td>\n",
       "      <td>both</td>\n",
       "      <td>26089</td>\n",
       "      <td>26089</td>\n",
       "      <td>Aged White Cheddar Popcorn</td>\n",
       "      <td>23</td>\n",
       "      <td>19</td>\n",
       "      <td>4.7</td>\n",
       "      <td>both</td>\n",
       "    </tr>\n",
       "  </tbody>\n",
       "</table>\n",
       "</div>"
      ],
      "text/plain": [
       "   Unnamed: 0.1_x  Unnamed: 0_x  order_id  user_id  order_number  \\\n",
       "0               1             1   2398795        1             2   \n",
       "1               1             1   2398795        1             2   \n",
       "2               1             1   2398795        1             2   \n",
       "3               1             1   2398795        1             2   \n",
       "4               1             1   2398795        1             2   \n",
       "\n",
       "   order_day_of_week  order_hour_of_day  days_since_prior_order  product_id  \\\n",
       "0                  3                  7                    15.0         196   \n",
       "1                  3                  7                    15.0       10258   \n",
       "2                  3                  7                    15.0       12427   \n",
       "3                  3                  7                    15.0       13176   \n",
       "4                  3                  7                    15.0       26088   \n",
       "\n",
       "   add_to_cart_order  reordered _merge  Unnamed: 0.1_y  Unnamed: 0_y  \\\n",
       "0                  1          1   both             195           195   \n",
       "1                  2          0   both           10258         10258   \n",
       "2                  3          1   both           12427         12427   \n",
       "3                  4          0   both           13176         13176   \n",
       "4                  5          1   both           26089         26089   \n",
       "\n",
       "                 product_name  aisle_id  department_id  prices merge_status  \n",
       "0                        Soda        77              7     9.0         both  \n",
       "1                  Pistachios       117             19     3.0         both  \n",
       "2         Original Beef Jerky        23             19     4.4         both  \n",
       "3      Bag of Organic Bananas        24              4    10.3         both  \n",
       "4  Aged White Cheddar Popcorn        23             19     4.7         both  "
      ]
     },
     "execution_count": 4,
     "metadata": {},
     "output_type": "execute_result"
    }
   ],
   "source": [
    "import pandas as pd\n",
    "import os\n",
    "\n",
    "# Set path\n",
    "path = r'C:\\Users\\rhysm\\OneDrive\\Desktop\\Career Foundry\\Data Immersion\\Module 4\\04-2025 Instacart Basket Analysis'\n",
    "\n",
    "# Import dataset\n",
    "ords_prods_merge = pd.read_pickle(os.path.join(path, '02 Data', 'Prepared Data', 'ords_prods_merge.pkl'))\n",
    "\n",
    "# Confirm import\n",
    "ords_prods_merge.head()"
   ]
  },
  {
   "cell_type": "markdown",
   "id": "1e2d91bc",
   "metadata": {},
   "source": [
    "## 3️⃣ Create 'price_label' Column\n",
    "\n",
    "We’ll use the `loc()` method to categorize products into price ranges:"
   ]
  },
  {
   "cell_type": "code",
   "execution_count": 6,
   "id": "404a3e04",
   "metadata": {},
   "outputs": [
    {
     "data": {
      "text/plain": [
       "price_label\n",
       "Mid-range product     20489445\n",
       "Low-range product      9476834\n",
       "High-range product      389849\n",
       "Name: count, dtype: int64"
      ]
     },
     "execution_count": 6,
     "metadata": {},
     "output_type": "execute_result"
    }
   ],
   "source": [
    "# Create new column 'price_label'\n",
    "ords_prods_merge.loc[ords_prods_merge['prices'] > 15, 'price_label'] = 'High-range product'\n",
    "ords_prods_merge.loc[(ords_prods_merge['prices'] <= 15) & (ords_prods_merge['prices'] > 5), 'price_label'] = 'Mid-range product'\n",
    "ords_prods_merge.loc[ords_prods_merge['prices'] <= 5, 'price_label'] = 'Low-range product'\n",
    "\n",
    "# Check distribution\n",
    "ords_prods_merge['price_label'].value_counts(dropna=False)"
   ]
  },
  {
   "cell_type": "markdown",
   "id": "693af8a5",
   "metadata": {},
   "source": [
    "## 4️⃣ Create 'busiest_day' Column\n",
    "\n",
    "We’ll add a summary column indicating whether the day of the week is the busiest, slowest, or regularly busy."
   ]
  },
  {
   "cell_type": "code",
   "execution_count": 8,
   "id": "bffb47a5",
   "metadata": {},
   "outputs": [
    {
     "data": {
      "text/plain": [
       "busiest_day\n",
       "Regularly busy    21014279\n",
       "Busiest day        5784140\n",
       "Least busy         3557709\n",
       "Name: count, dtype: int64"
      ]
     },
     "execution_count": 8,
     "metadata": {},
     "output_type": "execute_result"
    }
   ],
   "source": [
    "# Create 'busiest_day' column\n",
    "result = []\n",
    "\n",
    "for value in ords_prods_merge['order_day_of_week']:\n",
    "    if value == 0:\n",
    "        result.append('Busiest day')\n",
    "    elif value == 4:\n",
    "        result.append('Least busy')\n",
    "    else:\n",
    "        result.append('Regularly busy')\n",
    "\n",
    "ords_prods_merge['busiest_day'] = result\n",
    "\n",
    "\n",
    "# Check distribution\n",
    "ords_prods_merge['busiest_day'].value_counts(dropna=False)"
   ]
  },
  {
   "cell_type": "markdown",
   "id": "a7f07f1d",
   "metadata": {},
   "source": [
    "## 5️⃣ Update 'busiest_day' to 'busiest_days'\n",
    "\n",
    "We update to reflect two busiest and two slowest days."
   ]
  },
  {
   "cell_type": "code",
   "execution_count": 10,
   "id": "75f42800",
   "metadata": {},
   "outputs": [
    {
     "data": {
      "text/plain": [
       "busiest_days\n",
       "Regular days    12101417\n",
       "Busiest days    11093110\n",
       "Slowest days     7161601\n",
       "Name: count, dtype: int64"
      ]
     },
     "execution_count": 10,
     "metadata": {},
     "output_type": "execute_result"
    }
   ],
   "source": [
    "# Update column to identify two busiest and two slowest days\n",
    "ords_prods_merge.loc[ords_prods_merge['order_day_of_week'].isin([0,1]), 'busiest_days'] = 'Busiest days'\n",
    "ords_prods_merge.loc[ords_prods_merge['order_day_of_week'].isin([4,3]), 'busiest_days'] = 'Slowest days'\n",
    "ords_prods_merge.loc[~ords_prods_merge['order_day_of_week'].isin([0,1,3,4]), 'busiest_days'] = 'Regular days'\n",
    "\n",
    "# Check distribution\n",
    "ords_prods_merge['busiest_days'].value_counts(dropna=False)"
   ]
  },
  {
   "cell_type": "markdown",
   "id": "f8f697cc",
   "metadata": {},
   "source": [
    "## 6️⃣ Create 'busiest_period_of_day' Column\n",
    "\n",
    "We categorize hours of the day into 'Most orders', 'Average orders', and 'Fewest orders'."
   ]
  },
  {
   "cell_type": "code",
   "execution_count": 12,
   "id": "661ea229",
   "metadata": {},
   "outputs": [
    {
     "data": {
      "text/plain": [
       "busiest_period_of_day\n",
       "Most orders       15109963\n",
       "Average orders    12063391\n",
       "Fewest orders      3182774\n",
       "Name: count, dtype: int64"
      ]
     },
     "execution_count": 12,
     "metadata": {},
     "output_type": "execute_result"
    }
   ],
   "source": [
    "# Create 'busiest_period_of_day' column\n",
    "ords_prods_merge.loc[ords_prods_merge['order_hour_of_day'].isin(range(10,16)), 'busiest_period_of_day'] = 'Most orders'\n",
    "ords_prods_merge.loc[ords_prods_merge['order_hour_of_day'].isin(range(6,10)) | ords_prods_merge['order_hour_of_day'].isin(range(16,20)), 'busiest_period_of_day'] = 'Average orders'\n",
    "ords_prods_merge.loc[ords_prods_merge['busiest_period_of_day'].isnull(), 'busiest_period_of_day'] = 'Fewest orders'\n",
    "\n",
    "# Check distribution\n",
    "ords_prods_merge['busiest_period_of_day'].value_counts(dropna=False)"
   ]
  },
  {
   "cell_type": "markdown",
   "id": "2f5ba95a",
   "metadata": {},
   "source": [
    "## 7️⃣ Export Data\n",
    "\n",
    "We export the updated dataframe with all new columns added."
   ]
  },
  {
   "cell_type": "code",
   "execution_count": 14,
   "id": "bd87f3ad",
   "metadata": {},
   "outputs": [],
   "source": [
    "# Export the updated dataframe\n",
    "ords_prods_merge.to_pickle(os.path.join(path, '02 Data', 'Prepared Data', 'ords_prods_merged_labeled.pkl'))"
   ]
  },
  {
   "cell_type": "markdown",
   "id": "03d07f14",
   "metadata": {},
   "source": [
    "## 8️⃣ Reflection\n",
    "\n",
    "✅ In this notebook, I derived multiple new columns using different Python techniques, including `if-statements`, `for-loops`, and the `loc()` method. These flags and summaries help in understanding customer behaviors and order patterns for better business decision-making."
   ]
  },
  {
   "cell_type": "code",
   "execution_count": null,
   "id": "52c1b70b-c803-4c45-935f-7721d728a2f8",
   "metadata": {},
   "outputs": [],
   "source": []
  },
  {
   "cell_type": "code",
   "execution_count": null,
   "id": "5d016fa3-87c4-45c8-8fca-b0b47381e306",
   "metadata": {},
   "outputs": [],
   "source": []
  }
 ],
 "metadata": {
  "kernelspec": {
   "display_name": "Python [conda env:base] *",
   "language": "python",
   "name": "conda-base-py"
  },
  "language_info": {
   "codemirror_mode": {
    "name": "ipython",
    "version": 3
   },
   "file_extension": ".py",
   "mimetype": "text/x-python",
   "name": "python",
   "nbconvert_exporter": "python",
   "pygments_lexer": "ipython3",
   "version": "3.12.7"
  }
 },
 "nbformat": 4,
 "nbformat_minor": 5
}
