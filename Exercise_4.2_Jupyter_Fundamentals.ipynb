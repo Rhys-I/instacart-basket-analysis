{
 "cells": [
  {
   "cell_type": "markdown",
   "id": "a5e2721e-17d9-4b23-bcf3-c8a2e056d146",
   "metadata": {},
   "source": [
    "# Exercise 4.2: Jupyter Fundamentals & Python Data Types\n",
    "\n",
    "## 📋 Table of Contents\n",
    "\n",
    "1. [Introduction](#Introduction)\n",
    "2. [Lists](#Lists)\n",
    "3. [Dictionaries](#Dictionaries)\n",
    "4. [Tuples](#Tuples)\n",
    "5. [Indexing & Slicing](#Indexing)\n",
    "6. [Basic Functions](#Functions)\n",
    "7. [Reflection](#Reflection)\n"
   ]
  },
  {
   "cell_type": "markdown",
   "id": "cd85fe28-7217-46d8-8c4a-41a6a7715d2a",
   "metadata": {},
   "source": [
    "This exercise focuses on Jupyter basics and Python data types like lists, dictionaries, and tuples. I’ll also practice indexing, slicing, and running simple functions.\n"
   ]
  },
  {
   "cell_type": "code",
   "execution_count": 3,
   "id": "3cee62f2-b1ba-462c-b329-ceec1875710a",
   "metadata": {},
   "outputs": [
    {
     "name": "stdout",
     "output_type": "stream",
     "text": [
      "['apples', 'bananas', 'bread', 'milk']\n",
      "['apples', 'bananas', 'bread', 'milk', 'eggs']\n"
     ]
    }
   ],
   "source": [
    "# Create a list of groceries\n",
    "groceries = ['apples', 'bananas', 'bread', 'milk']\n",
    "\n",
    "# Print the list\n",
    "print(groceries)\n",
    "\n",
    "# Add an item\n",
    "groceries.append('eggs')\n",
    "print(groceries)\n"
   ]
  },
  {
   "cell_type": "code",
   "execution_count": 4,
   "id": "3d89bd25-e947-495b-85b7-705f8b57688a",
   "metadata": {},
   "outputs": [
    {
     "name": "stdout",
     "output_type": "stream",
     "text": [
      "{'name': 'Chocolate', 'price': 2.99, 'in_stock': True}\n",
      "Product name: Chocolate\n"
     ]
    }
   ],
   "source": [
    "# Create a dictionary for a product\n",
    "product = {\n",
    "    'name': 'Chocolate',\n",
    "    'price': 2.99,\n",
    "    'in_stock': True\n",
    "}\n",
    "\n",
    "# Print product info\n",
    "print(product)\n",
    "\n",
    "# Access a value\n",
    "print(\"Product name:\", product['name'])\n"
   ]
  },
  {
   "cell_type": "code",
   "execution_count": 7,
   "id": "414d2d5c-41d0-4770-a822-3fb96b9ac62e",
   "metadata": {},
   "outputs": [
    {
     "name": "stdout",
     "output_type": "stream",
     "text": [
      "('Boston', 'New York', 'Chicago')\n"
     ]
    }
   ],
   "source": [
    "# Create a tuple of store locations\n",
    "store_locations = ('Boston', 'New York', 'Chicago')\n",
    "\n",
    "# Print the tuple\n",
    "print(store_locations)\n"
   ]
  },
  {
   "cell_type": "code",
   "execution_count": 9,
   "id": "31346fd6-ffbe-4ee6-bace-91608518c176",
   "metadata": {},
   "outputs": [
    {
     "name": "stdout",
     "output_type": "stream",
     "text": [
      "First grocery item: apples\n",
      "First two grocery items: ['apples', 'bananas']\n"
     ]
    }
   ],
   "source": [
    "# Indexing a list\n",
    "first_item = groceries[0]\n",
    "print(\"First grocery item:\", first_item)\n",
    "\n",
    "# Slicing a list\n",
    "first_two = groceries[:2]\n",
    "print(\"First two grocery items:\", first_two)\n"
   ]
  },
  {
   "cell_type": "code",
   "execution_count": 11,
   "id": "740385b1-77cf-459d-ab19-cbb2e4af5059",
   "metadata": {},
   "outputs": [
    {
     "name": "stdout",
     "output_type": "stream",
     "text": [
      "Number of grocery items: 5\n",
      "<class 'dict'>\n"
     ]
    }
   ],
   "source": [
    "# Length of the grocery list\n",
    "num_items = len(groceries)\n",
    "print(\"Number of grocery items:\", num_items)\n",
    "\n",
    "# Check data type\n",
    "print(type(product))\n"
   ]
  },
  {
   "cell_type": "markdown",
   "id": "c40b788c-9a90-44c4-b4aa-32c392920741",
   "metadata": {},
   "source": [
    "✅ I practiced working with Python’s core data types (lists, dictionaries, and tuples), indexing and slicing, and basic built-in functions like `len()` and `type()`.\n"
   ]
  },
  {
   "cell_type": "code",
   "execution_count": null,
   "id": "5937d847-6f6a-4516-b66f-cfe748a1cdd6",
   "metadata": {},
   "outputs": [],
   "source": []
  }
 ],
 "metadata": {
  "kernelspec": {
   "display_name": "Python [conda env:base] *",
   "language": "python",
   "name": "conda-base-py"
  },
  "language_info": {
   "codemirror_mode": {
    "name": "ipython",
    "version": 3
   },
   "file_extension": ".py",
   "mimetype": "text/x-python",
   "name": "python",
   "nbconvert_exporter": "python",
   "pygments_lexer": "ipython3",
   "version": "3.12.7"
  }
 },
 "nbformat": 4,
 "nbformat_minor": 5
}
