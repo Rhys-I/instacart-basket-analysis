{
 "cells": [
  {
   "cell_type": "markdown",
   "id": "33391d64",
   "metadata": {},
   "source": [
    "# Exercise 4.3: Intro to Pandas\n",
    "\n",
    "## 📋 Table of Contents\n",
    "\n",
    "1. [Introduction](#Introduction)\n",
    "2. [Importing Pandas](#Importing)\n",
    "3. [Creating a DataFrame](#DataFrame)\n",
    "4. [Accessing Data](#Accessing)\n",
    "5. [Basic DataFrame Methods](#Methods)\n",
    "6. [Reflection](#Reflection)"
   ]
  },
  {
   "cell_type": "markdown",
   "id": "c566214a",
   "metadata": {},
   "source": [
    "## Introduction\n",
    "\n",
    "In this exercise, I’ll get familiar with Pandas, a key data analysis library in Python. I’ll create a DataFrame, access data with `.loc[]` and `.iloc[]`, and test basic methods."
   ]
  },
  {
   "cell_type": "markdown",
   "id": "780b5bfb",
   "metadata": {},
   "source": [
    "## Importing Pandas"
   ]
  },
  {
   "cell_type": "code",
   "execution_count": 4,
   "id": "229db4a6",
   "metadata": {},
   "outputs": [],
   "source": [
    "import pandas as pd"
   ]
  },
  {
   "cell_type": "markdown",
   "id": "f58a71de",
   "metadata": {},
   "source": [
    "## Creating a DataFrame"
   ]
  },
  {
   "cell_type": "code",
   "execution_count": 7,
   "id": "1d5ec908",
   "metadata": {},
   "outputs": [
    {
     "name": "stdout",
     "output_type": "stream",
     "text": [
      "   Product  Price  In_Stock\n",
      "0   Apples    1.2      True\n",
      "1  Bananas    0.5      True\n",
      "2    Bread    2.0     False\n",
      "3     Milk    1.5      True\n"
     ]
    }
   ],
   "source": [
    "# Create a simple DataFrame\n",
    "data = {\n",
    "    'Product': ['Apples', 'Bananas', 'Bread', 'Milk'],\n",
    "    'Price': [1.20, 0.50, 2.00, 1.50],\n",
    "    'In_Stock': [True, True, False, True]\n",
    "}\n",
    "\n",
    "df = pd.DataFrame(data)\n",
    "\n",
    "# Display the DataFrame\n",
    "print(df)"
   ]
  },
  {
   "cell_type": "markdown",
   "id": "85b00fa8",
   "metadata": {},
   "source": [
    "## Accessing Data"
   ]
  },
  {
   "cell_type": "code",
   "execution_count": 10,
   "id": "06cfbf66",
   "metadata": {},
   "outputs": [
    {
     "name": "stdout",
     "output_type": "stream",
     "text": [
      "Product     Apples\n",
      "Price          1.2\n",
      "In_Stock      True\n",
      "Name: 0, dtype: object\n",
      "Product     Apples\n",
      "Price          1.2\n",
      "In_Stock      True\n",
      "Name: 0, dtype: object\n",
      "0    1.2\n",
      "1    0.5\n",
      "2    2.0\n",
      "3    1.5\n",
      "Name: Price, dtype: float64\n"
     ]
    }
   ],
   "source": [
    "# Access the first row with loc\n",
    "print(df.loc[0])\n",
    "\n",
    "# Access the first row with iloc\n",
    "print(df.iloc[0])\n",
    "\n",
    "# Access the Price column\n",
    "print(df['Price'])"
   ]
  },
  {
   "cell_type": "markdown",
   "id": "ed9a656a",
   "metadata": {},
   "source": [
    "## Basic DataFrame Methods"
   ]
  },
  {
   "cell_type": "code",
   "execution_count": 13,
   "id": "18a457de",
   "metadata": {},
   "outputs": [
    {
     "name": "stdout",
     "output_type": "stream",
     "text": [
      "Shape: (4, 3)\n",
      "          Price\n",
      "count  4.000000\n",
      "mean   1.300000\n",
      "std    0.627163\n",
      "min    0.500000\n",
      "25%    1.025000\n",
      "50%    1.350000\n",
      "75%    1.625000\n",
      "max    2.000000\n",
      "Product      object\n",
      "Price       float64\n",
      "In_Stock       bool\n",
      "dtype: object\n"
     ]
    }
   ],
   "source": [
    "# Check shape\n",
    "print(\"Shape:\", df.shape)\n",
    "\n",
    "# Get summary statistics\n",
    "print(df.describe())\n",
    "\n",
    "# Check data types\n",
    "print(df.dtypes)"
   ]
  },
  {
   "cell_type": "markdown",
   "id": "69031121",
   "metadata": {},
   "source": [
    "## Reflection\n",
    "\n",
    "✅ I learned how to create a DataFrame in Pandas, access rows and columns, and explore basic DataFrame properties and methods."
   ]
  },
  {
   "cell_type": "code",
   "execution_count": null,
   "id": "63ce7d74-7168-4613-b046-d6d2f8deb7e6",
   "metadata": {},
   "outputs": [],
   "source": []
  },
  {
   "cell_type": "code",
   "execution_count": null,
   "id": "2cc7a2ff-ce77-444a-ab66-381748d53352",
   "metadata": {},
   "outputs": [],
   "source": []
  }
 ],
 "metadata": {
  "kernelspec": {
   "display_name": "Python [conda env:base] *",
   "language": "python",
   "name": "conda-base-py"
  },
  "language_info": {
   "codemirror_mode": {
    "name": "ipython",
    "version": 3
   },
   "file_extension": ".py",
   "mimetype": "text/x-python",
   "name": "python",
   "nbconvert_exporter": "python",
   "pygments_lexer": "ipython3",
   "version": "3.12.7"
  }
 },
 "nbformat": 4,
 "nbformat_minor": 5
}
