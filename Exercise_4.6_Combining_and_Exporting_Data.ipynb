{
 "cells": [
  {
   "cell_type": "markdown",
   "id": "f6a89138",
   "metadata": {},
   "source": [
    "# Exercise 4.6: Combining & Exporting Data\n",
    "\n",
    "## 📋 Table of Contents\n",
    "\n",
    "1. [Introduction](#Introduction)\n",
    "2. [Import Libraries & Data](#Import)\n",
    "3. [Merge Orders & Prior Orders](#MergeOrders)\n",
    "4. [Export Merged Orders Data](#ExportOrders)\n",
    "5. [Import Merged Orders & Merge with Products](#MergeProducts)\n",
    "6. [Export Final Merged Data](#ExportFinal)\n",
    "7. [Reflection](#Reflection)"
   ]
  },
  {
   "cell_type": "markdown",
   "id": "ac625ff8",
   "metadata": {},
   "source": [
    "## Introduction\n",
    "\n",
    "In this exercise, I’ll combine multiple datasets using pandas merge techniques. I’ll merge the orders and prior orders data, then merge the result with the products data, and export the combined data."
   ]
  },
  {
   "cell_type": "markdown",
   "id": "94571e36",
   "metadata": {},
   "source": [
    "## Import Libraries & Data"
   ]
  },
  {
   "cell_type": "code",
   "execution_count": 4,
   "id": "3b439f3f",
   "metadata": {},
   "outputs": [],
   "source": [
    "import pandas as pd\n",
    "import os\n",
    "\n",
    "# Set path\n",
    "path = r'C:\\\\Users\\\\rhysm\\\\OneDrive\\\\Desktop\\\\Career Foundry\\\\Data Immersion\\\\Module 4\\\\04-2025 Instacart Basket Analysis'\n",
    "\n",
    "# Import data\n",
    "df_ords = pd.read_csv(os.path.join(path, '02 Data', 'Prepared Data', 'orders_checked.csv'))\n",
    "df_ords_prior = pd.read_csv(os.path.join(path, '02 Data', 'Original Data', 'orders_products_prior.csv'))\n"
   ]
  },
  {
   "cell_type": "markdown",
   "id": "92a6795b",
   "metadata": {},
   "source": [
    "## Merge Orders & Prior Orders"
   ]
  },
  {
   "cell_type": "code",
   "execution_count": 6,
   "id": "3646eb45",
   "metadata": {},
   "outputs": [
    {
     "name": "stdout",
     "output_type": "stream",
     "text": [
      "_merge\n",
      "both          30356421\n",
      "left_only            0\n",
      "right_only           0\n",
      "Name: count, dtype: int64\n",
      "   Unnamed: 0.1  Unnamed: 0  order_id  user_id  order_number  \\\n",
      "0             1           1   2398795        1             2   \n",
      "1             1           1   2398795        1             2   \n",
      "2             1           1   2398795        1             2   \n",
      "3             1           1   2398795        1             2   \n",
      "4             1           1   2398795        1             2   \n",
      "\n",
      "   order_day_of_week  order_hour_of_day  days_since_prior_order  product_id  \\\n",
      "0                  3                  7                    15.0         196   \n",
      "1                  3                  7                    15.0       10258   \n",
      "2                  3                  7                    15.0       12427   \n",
      "3                  3                  7                    15.0       13176   \n",
      "4                  3                  7                    15.0       26088   \n",
      "\n",
      "   add_to_cart_order  reordered _merge  \n",
      "0                  1          1   both  \n",
      "1                  2          0   both  \n",
      "2                  3          1   both  \n",
      "3                  4          0   both  \n",
      "4                  5          1   both  \n"
     ]
    }
   ],
   "source": [
    "# Merge on 'order_id'\n",
    "df_merged_large = df_ords.merge(df_ords_prior, on='order_id', indicator=True)\n",
    "print(df_merged_large['_merge'].value_counts())\n",
    "print(df_merged_large.head())"
   ]
  },
  {
   "cell_type": "markdown",
   "id": "be97f50d",
   "metadata": {},
   "source": [
    "## Export Merged Orders Data"
   ]
  },
  {
   "cell_type": "code",
   "execution_count": 8,
   "id": "a33dd9b7",
   "metadata": {},
   "outputs": [],
   "source": [
    "# Export as Pickle\n",
    "df_merged_large.to_pickle(os.path.join(path, '02 Data', 'Prepared Data', 'orders_products_combined.pkl'))"
   ]
  },
  {
   "cell_type": "markdown",
   "id": "99157b46",
   "metadata": {},
   "source": [
    "## Import Merged Orders & Merge with Products"
   ]
  },
  {
   "cell_type": "code",
   "execution_count": 10,
   "id": "11bffb92",
   "metadata": {},
   "outputs": [
    {
     "name": "stdout",
     "output_type": "stream",
     "text": [
      "merge_status\n",
      "both          30356128\n",
      "left_only            0\n",
      "right_only           0\n",
      "Name: count, dtype: int64\n",
      "   Unnamed: 0.1_x  Unnamed: 0_x  order_id  user_id  order_number  \\\n",
      "0               1             1   2398795        1             2   \n",
      "1               1             1   2398795        1             2   \n",
      "2               1             1   2398795        1             2   \n",
      "3               1             1   2398795        1             2   \n",
      "4               1             1   2398795        1             2   \n",
      "\n",
      "   order_day_of_week  order_hour_of_day  days_since_prior_order  product_id  \\\n",
      "0                  3                  7                    15.0         196   \n",
      "1                  3                  7                    15.0       10258   \n",
      "2                  3                  7                    15.0       12427   \n",
      "3                  3                  7                    15.0       13176   \n",
      "4                  3                  7                    15.0       26088   \n",
      "\n",
      "   add_to_cart_order  reordered _merge  Unnamed: 0.1_y  Unnamed: 0_y  \\\n",
      "0                  1          1   both             195           195   \n",
      "1                  2          0   both           10258         10258   \n",
      "2                  3          1   both           12427         12427   \n",
      "3                  4          0   both           13176         13176   \n",
      "4                  5          1   both           26089         26089   \n",
      "\n",
      "                 product_name  aisle_id  department_id  prices merge_status  \n",
      "0                        Soda        77              7     9.0         both  \n",
      "1                  Pistachios       117             19     3.0         both  \n",
      "2         Original Beef Jerky        23             19     4.4         both  \n",
      "3      Bag of Organic Bananas        24              4    10.3         both  \n",
      "4  Aged White Cheddar Popcorn        23             19     4.7         both  \n"
     ]
    }
   ],
   "source": [
    "# Import merged pickle\n",
    "df_merged_large = pd.read_pickle(os.path.join(path, '02 Data', 'Prepared Data', 'orders_products_combined.pkl'))\n",
    "\n",
    "# Import products\n",
    "df_prods = pd.read_csv(os.path.join(path, '02 Data', 'Prepared Data', 'products_checked.csv'))\n",
    "\n",
    "# Merge with products on 'product_id'\n",
    "df_merged_final = df_merged_large.merge(df_prods, on='product_id', indicator='merge_status')\n",
    "print(df_merged_final['merge_status'].value_counts())\n",
    "print(df_merged_final.head())"
   ]
  },
  {
   "cell_type": "markdown",
   "id": "923b4bd4",
   "metadata": {},
   "source": [
    "## Export Final Merged Data"
   ]
  },
  {
   "cell_type": "code",
   "execution_count": null,
   "id": "58aef4f7",
   "metadata": {},
   "outputs": [],
   "source": [
    "# Export final merged data as Pickle\n",
    "df_merged_final.to_pickle(os.path.join(path, '02 Data', 'Prepared Data', 'ords_prods_merge.pkl'))"
   ]
  },
  {
   "cell_type": "markdown",
   "id": "39617a0b",
   "metadata": {},
   "source": [
    "## Reflection\n",
    "\n",
    "✅ In this exercise, I practiced merging large datasets, first combining orders with prior orders and then adding product data. The combined data was exported for use in future analysis."
   ]
  },
  {
   "cell_type": "code",
   "execution_count": null,
   "id": "282ea49d-f1de-4985-8c80-ef23fcc67390",
   "metadata": {},
   "outputs": [],
   "source": []
  },
  {
   "cell_type": "code",
   "execution_count": null,
   "id": "8dfdc68c-46a2-4aef-8288-02b122589a54",
   "metadata": {},
   "outputs": [],
   "source": []
  },
  {
   "cell_type": "code",
   "execution_count": null,
   "id": "d136da03-71b0-4072-8431-ade18df0d9d7",
   "metadata": {},
   "outputs": [],
   "source": []
  }
 ],
 "metadata": {
  "kernelspec": {
   "display_name": "Python [conda env:base] *",
   "language": "python",
   "name": "conda-base-py"
  },
  "language_info": {
   "codemirror_mode": {
    "name": "ipython",
    "version": 3
   },
   "file_extension": ".py",
   "mimetype": "text/x-python",
   "name": "python",
   "nbconvert_exporter": "python",
   "pygments_lexer": "ipython3",
   "version": "3.12.7"
  }
 },
 "nbformat": 4,
 "nbformat_minor": 5
}
