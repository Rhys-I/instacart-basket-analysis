{
 "cells": [
  {
   "cell_type": "markdown",
   "id": "db451579",
   "metadata": {},
   "source": [
    "# Exercise 4.4: Data Wrangling & Subsetting\n",
    "\n",
    "## 📋 Table of Contents\n",
    "\n",
    "1. [Introduction](#Introduction)\n",
    "2. [Import Libraries & Data](#Import)\n",
    "3. [Dropping Columns](#Dropping)\n",
    "4. [Renaming Columns](#Renaming)\n",
    "5. [Changing Data Types](#Types)\n",
    "6. [Transposing Data](#Transposing)\n",
    "7. [Creating a Data Dictionary](#DataDict)\n",
    "8. [Subsetting Data](#Subsetting)\n",
    "9. [Exporting Data](#Exporting)\n",
    "10. [Reflection](#Reflection)"
   ]
  },
  {
   "cell_type": "markdown",
   "id": "8a859831",
   "metadata": {},
   "source": [
    "## Introduction\n",
    "\n",
    "In this exercise, I’ll wrangle and subset data using pandas. Tasks include dropping & renaming columns, changing data types, subsetting data, and exporting cleaned files."
   ]
  },
  {
   "cell_type": "markdown",
   "id": "856d0cb3",
   "metadata": {},
   "source": [
    "## Import Libraries & Data"
   ]
  },
  {
   "cell_type": "code",
   "execution_count": 4,
   "id": "5f5e5451",
   "metadata": {},
   "outputs": [],
   "source": [
    "import pandas as pd\n",
    "import os\n",
    "\n",
    "# Set the path to your project folder\n",
    "path = r'C:\\\\Users\\\\rhysm\\\\OneDrive\\\\Desktop\\\\Career Foundry\\\\Data Immersion\\\\Module 4\\\\04-2025 Instacart Basket Analysis'\n",
    "\n",
    "# Import orders.csv and products.csv\n",
    "df_ords = pd.read_csv(os.path.join(path, '02 Data', 'Original Data', 'orders.csv'))\n",
    "df_prods = pd.read_csv(os.path.join(path, '02 Data', 'Original Data', 'products.csv'))"
   ]
  },
  {
   "cell_type": "markdown",
   "id": "0f4e2a01",
   "metadata": {},
   "source": [
    "## Dropping Columns"
   ]
  },
  {
   "cell_type": "code",
   "execution_count": 6,
   "id": "bf25d551",
   "metadata": {},
   "outputs": [
    {
     "name": "stdout",
     "output_type": "stream",
     "text": [
      "   order_id  user_id  order_number  order_dow  order_hour_of_day  \\\n",
      "0   2539329        1             1          2                  8   \n",
      "1   2398795        1             2          3                  7   \n",
      "2    473747        1             3          3                 12   \n",
      "3   2254736        1             4          4                  7   \n",
      "4    431534        1             5          4                 15   \n",
      "\n",
      "   days_since_prior_order  \n",
      "0                     NaN  \n",
      "1                    15.0  \n",
      "2                    21.0  \n",
      "3                    29.0  \n",
      "4                    28.0  \n"
     ]
    }
   ],
   "source": [
    "# Drop 'eval_set' column from df_ords\n",
    "df_ords = df_ords.drop(columns=['eval_set'])\n",
    "print(df_ords.head())"
   ]
  },
  {
   "cell_type": "markdown",
   "id": "c1e0a124",
   "metadata": {},
   "source": [
    "## Renaming Columns"
   ]
  },
  {
   "cell_type": "code",
   "execution_count": 8,
   "id": "6c1bc225",
   "metadata": {},
   "outputs": [
    {
     "name": "stdout",
     "output_type": "stream",
     "text": [
      "   order_id  user_id  order_number  order_day_of_week  order_hour_of_day  \\\n",
      "0   2539329        1             1                  2                  8   \n",
      "1   2398795        1             2                  3                  7   \n",
      "2    473747        1             3                  3                 12   \n",
      "3   2254736        1             4                  4                  7   \n",
      "4    431534        1             5                  4                 15   \n",
      "\n",
      "   days_since_prior_order  \n",
      "0                     NaN  \n",
      "1                    15.0  \n",
      "2                    21.0  \n",
      "3                    29.0  \n",
      "4                    28.0  \n"
     ]
    }
   ],
   "source": [
    "# Rename 'order_dow' to 'order_day_of_week'\n",
    "df_ords.rename(columns={'order_dow': 'order_day_of_week'}, inplace=True)\n",
    "print(df_ords.head())"
   ]
  },
  {
   "cell_type": "markdown",
   "id": "9203c703",
   "metadata": {},
   "source": [
    "## Changing Data Types"
   ]
  },
  {
   "cell_type": "code",
   "execution_count": 10,
   "id": "3bb7d3d5",
   "metadata": {},
   "outputs": [
    {
     "name": "stdout",
     "output_type": "stream",
     "text": [
      "order_id                   object\n",
      "user_id                     int64\n",
      "order_number                int64\n",
      "order_day_of_week           int64\n",
      "order_hour_of_day           int64\n",
      "days_since_prior_order    float64\n",
      "dtype: object\n"
     ]
    }
   ],
   "source": [
    "# Convert 'order_id' to string\n",
    "df_ords['order_id'] = df_ords['order_id'].astype('str')\n",
    "print(df_ords.dtypes)"
   ]
  },
  {
   "cell_type": "markdown",
   "id": "a5e9ee44",
   "metadata": {},
   "source": [
    "## Transposing Data"
   ]
  },
  {
   "cell_type": "code",
   "execution_count": 12,
   "id": "43fd121c",
   "metadata": {},
   "outputs": [
    {
     "name": "stdout",
     "output_type": "stream",
     "text": [
      "                                    0                 1      \\\n",
      "product_id                              1                 2   \n",
      "product_name   Chocolate Sandwich Cookies  All-Seasons Salt   \n",
      "aisle_id                               61               104   \n",
      "department_id                          19                13   \n",
      "prices                                5.8               9.3   \n",
      "\n",
      "                                              2      \\\n",
      "product_id                                        3   \n",
      "product_name   Robust Golden Unsweetened Oolong Tea   \n",
      "aisle_id                                         94   \n",
      "department_id                                     7   \n",
      "prices                                          4.5   \n",
      "\n",
      "                                                           3      \\\n",
      "product_id                                                     4   \n",
      "product_name   Smart Ones Classic Favorites Mini Rigatoni Wit...   \n",
      "aisle_id                                                      38   \n",
      "department_id                                                  1   \n",
      "prices                                                      10.5   \n",
      "\n",
      "                                   4             5      \\\n",
      "product_id                             5             6   \n",
      "product_name   Green Chile Anytime Sauce  Dry Nose Oil   \n",
      "aisle_id                               5            11   \n",
      "department_id                         13            11   \n",
      "prices                               4.3           2.6   \n",
      "\n",
      "                                        6      \\\n",
      "product_id                                  7   \n",
      "product_name   Pure Coconut Water With Orange   \n",
      "aisle_id                                   98   \n",
      "department_id                               7   \n",
      "prices                                    4.4   \n",
      "\n",
      "                                           7      \\\n",
      "product_id                                     8   \n",
      "product_name   Cut Russet Potatoes Steam N' Mash   \n",
      "aisle_id                                     116   \n",
      "department_id                                  1   \n",
      "prices                                       1.1   \n",
      "\n",
      "                                           8      \\\n",
      "product_id                                     9   \n",
      "product_name   Light Strawberry Blueberry Yogurt   \n",
      "aisle_id                                     120   \n",
      "department_id                                 16   \n",
      "prices                                       7.0   \n",
      "\n",
      "                                                        9      ...  \\\n",
      "product_id                                                 10  ...   \n",
      "product_name   Sparkling Orange Juice & Prickly Pear Beverage  ...   \n",
      "aisle_id                                                  115  ...   \n",
      "department_id                                               7  ...   \n",
      "prices                                                    8.4  ...   \n",
      "\n",
      "                                 49683                               49684  \\\n",
      "product_id                       49679                               49680   \n",
      "product_name   Famous Chocolate Wafers  All Natural Creamy Caesar Dressing   \n",
      "aisle_id                            61                                  89   \n",
      "department_id                       19                                  13   \n",
      "prices                             6.0                                 4.9   \n",
      "\n",
      "                                                 49685               49686  \\\n",
      "product_id                                       49681               49682   \n",
      "product_name   Spaghetti with Meatballs and Sauce Meal  California Limeade   \n",
      "aisle_id                                            38                  98   \n",
      "department_id                                        1                   7   \n",
      "prices                                             6.9                 4.3   \n",
      "\n",
      "                        49687                                      49688  \\\n",
      "product_id              49683                                      49684   \n",
      "product_name   Cucumber Kirby  Vodka, Triple Distilled, Twist of Vanilla   \n",
      "aisle_id                   83                                        124   \n",
      "department_id               4                                          5   \n",
      "prices                   13.2                                        5.3   \n",
      "\n",
      "                                            49689             49690  \\\n",
      "product_id                                  49685             49686   \n",
      "product_name   En Croute Roast Hazelnut Cranberry  Artisan Baguette   \n",
      "aisle_id                                       42               112   \n",
      "department_id                                   1                 3   \n",
      "prices                                        3.1               7.8   \n",
      "\n",
      "                                                    49691  \\\n",
      "product_id                                          49687   \n",
      "product_name   Smartblend Healthy Metabolism Dry Cat Food   \n",
      "aisle_id                                               41   \n",
      "department_id                                           8   \n",
      "prices                                                4.7   \n",
      "\n",
      "                                49692  \n",
      "product_id                      49688  \n",
      "product_name   Fresh Foaming Cleanser  \n",
      "aisle_id                           73  \n",
      "department_id                      11  \n",
      "prices                           13.5  \n",
      "\n",
      "[5 rows x 49693 columns]\n"
     ]
    }
   ],
   "source": [
    "# Transpose the df_prods dataframe (for data dictionary)\n",
    "df_prods_t = df_prods.T\n",
    "print(df_prods_t)"
   ]
  },
  {
   "cell_type": "markdown",
   "id": "8adf0027",
   "metadata": {},
   "source": [
    "## Creating a Data Dictionary"
   ]
  },
  {
   "cell_type": "code",
   "execution_count": 19,
   "id": "1ec9992a",
   "metadata": {},
   "outputs": [
    {
     "name": "stdout",
     "output_type": "stream",
     "text": [
      "[(0, {'product_id': 1, 'product_name': 'Chocolate Sandwich Cookies', 'aisle_id': 61, 'department_id': 19, 'prices': 5.8})]\n"
     ]
    }
   ],
   "source": [
    "# Create a data dictionary from df_prods\n",
    "data_dict = df_prods.to_dict('index')\n",
    "print(list(data_dict.items())[:1])  # Preview the first entry"
   ]
  },
  {
   "cell_type": "markdown",
   "id": "c0c523ec",
   "metadata": {},
   "source": [
    "## Subsetting Data"
   ]
  },
  {
   "cell_type": "code",
   "execution_count": 22,
   "id": "03537b24",
   "metadata": {},
   "outputs": [
    {
     "name": "stdout",
     "output_type": "stream",
     "text": [
      "     product_id                                      product_name  aisle_id  \\\n",
      "27           28                                 Wheat Chex Cereal       121   \n",
      "33           34                                               NaN       121   \n",
      "67           68                           Pancake Mix, Buttermilk       130   \n",
      "89           90                                      Smorz Cereal       121   \n",
      "210         211  Gluten Free Organic Cereal Coconut Maple Vanilla       130   \n",
      "\n",
      "     department_id  prices  \n",
      "27              14    10.1  \n",
      "33              14    12.2  \n",
      "67              14    13.7  \n",
      "89              14     3.9  \n",
      "210             14     3.6  \n",
      "    product_id                                    product_name  aisle_id  \\\n",
      "2            3            Robust Golden Unsweetened Oolong Tea        94   \n",
      "6            7                  Pure Coconut Water With Orange        98   \n",
      "9           10  Sparkling Orange Juice & Prickly Pear Beverage       115   \n",
      "10          11                               Peach Mango Juice        31   \n",
      "16          17                               Rendered Duck Fat        35   \n",
      "\n",
      "    department_id  prices  \n",
      "2               7     4.5  \n",
      "6               7     4.4  \n",
      "9               7     8.4  \n",
      "10              7     2.8  \n",
      "16             12    17.1  \n",
      "Total dinner party items: (7650, 5)\n",
      "   order_id  user_id  order_number  order_day_of_week  order_hour_of_day  \\\n",
      "0   2539329        1             1                  2                  8   \n",
      "1   2398795        1             2                  3                  7   \n",
      "2    473747        1             3                  3                 12   \n",
      "3   2254736        1             4                  4                  7   \n",
      "4    431534        1             5                  4                 15   \n",
      "5   3367565        1             6                  2                  7   \n",
      "6    550135        1             7                  1                  9   \n",
      "7   3108588        1             8                  1                 14   \n",
      "8   2295261        1             9                  1                 16   \n",
      "9   2550362        1            10                  4                  8   \n",
      "10  1187899        1            11                  4                  8   \n",
      "\n",
      "    days_since_prior_order  \n",
      "0                      NaN  \n",
      "1                     15.0  \n",
      "2                     21.0  \n",
      "3                     29.0  \n",
      "4                     28.0  \n",
      "5                     19.0  \n",
      "6                     20.0  \n",
      "7                     14.0  \n",
      "8                      0.0  \n",
      "9                     30.0  \n",
      "10                    14.0  \n"
     ]
    }
   ],
   "source": [
    "# Subset breakfast items (department_id == 14)\n",
    "df_breakfast = df_prods[df_prods['department_id'] == 14]\n",
    "print(df_breakfast.head())\n",
    "\n",
    "# Subset dinner party items\n",
    "dinner_parties = [5, 20, 7, 12]\n",
    "df_dinner_party = df_prods[df_prods['department_id'].isin(dinner_parties)]\n",
    "print(df_dinner_party.head())\n",
    "print(\"Total dinner party items:\", df_dinner_party.shape)\n",
    "\n",
    "# Subset user_id 1 orders\n",
    "df_user_1 = df_ords[df_ords['user_id'] == 1]\n",
    "print(df_user_1)"
   ]
  },
  {
   "cell_type": "markdown",
   "id": "cd355ca4",
   "metadata": {},
   "source": [
    "## Exporting Data"
   ]
  },
  {
   "cell_type": "code",
   "execution_count": 25,
   "id": "b1c1e8c9",
   "metadata": {},
   "outputs": [],
   "source": [
    "# Export cleaned orders and departments dataframes\n",
    "df_ords.to_csv(os.path.join(path, '02 Data', 'Prepared Data', 'orders_wrangled.csv'))\n",
    "df_prods.to_csv(os.path.join(path, '02 Data', 'Prepared Data', 'products_wrangled.csv'))"
   ]
  },
  {
   "cell_type": "markdown",
   "id": "c605b14c",
   "metadata": {},
   "source": [
    "## Reflection\n",
    "\n",
    "✅ In this exercise, I practiced key data wrangling techniques—dropping and renaming columns, converting data types, subsetting data, and exporting cleaned data files."
   ]
  },
  {
   "cell_type": "code",
   "execution_count": null,
   "id": "137ccbd4-69e1-4cd9-ab58-4e8d9895c92b",
   "metadata": {},
   "outputs": [],
   "source": []
  },
  {
   "cell_type": "code",
   "execution_count": null,
   "id": "0023ebe8-041a-4c80-aaa3-100f32147e52",
   "metadata": {},
   "outputs": [],
   "source": []
  }
 ],
 "metadata": {
  "kernelspec": {
   "display_name": "Python [conda env:base] *",
   "language": "python",
   "name": "conda-base-py"
  },
  "language_info": {
   "codemirror_mode": {
    "name": "ipython",
    "version": 3
   },
   "file_extension": ".py",
   "mimetype": "text/x-python",
   "name": "python",
   "nbconvert_exporter": "python",
   "pygments_lexer": "ipython3",
   "version": "3.12.7"
  }
 },
 "nbformat": 4,
 "nbformat_minor": 5
}
