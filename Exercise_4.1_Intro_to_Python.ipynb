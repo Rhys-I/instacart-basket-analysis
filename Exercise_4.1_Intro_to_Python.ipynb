{
 "cells": [
  {
   "cell_type": "markdown",
   "id": "0d6678e9-de7e-48f0-9f67-9be7e0315e87",
   "metadata": {},
   "source": [
    "# Exercise 4.1: Intro to Programming for Data Analysts\n",
    "\n",
    "## 📋 Table of Contents\n",
    "\n",
    "1. [Introduction](#Introduction)\n",
    "2. [Variables & Data Types](#Variables)\n",
    "3. [Basic Operations](#Operations)\n",
    "4. [Printing & Output](#Output)\n",
    "5. [Comments](#Comments)\n",
    "6. [Reflection](#Reflection)\n"
   ]
  },
  {
   "cell_type": "markdown",
   "id": "9f82a54b-ea55-42eb-b130-552a3d58456c",
   "metadata": {},
   "source": [
    "In this exercise, I’m learning the fundamentals of Python programming, focusing on variables, data types, simple operations, and output.\n"
   ]
  },
  {
   "cell_type": "code",
   "execution_count": 3,
   "id": "15922c8d-796d-4636-a003-63a26de6261d",
   "metadata": {},
   "outputs": [
    {
     "name": "stdout",
     "output_type": "stream",
     "text": [
      "10\n",
      "3.14\n",
      "Hello, Instacart!\n",
      "True\n"
     ]
    }
   ],
   "source": [
    "# Integer\n",
    "my_int = 10\n",
    "\n",
    "# Float\n",
    "my_float = 3.14\n",
    "\n",
    "# String\n",
    "my_string = \"Hello, Instacart!\"\n",
    "\n",
    "# Boolean\n",
    "my_bool = True\n",
    "\n",
    "# Print all variables\n",
    "print(my_int)\n",
    "print(my_float)\n",
    "print(my_string)\n",
    "print(my_bool)\n"
   ]
  },
  {
   "cell_type": "code",
   "execution_count": 4,
   "id": "37894a51-9653-4c17-be0d-4e05861430d0",
   "metadata": {},
   "outputs": [
    {
     "name": "stdout",
     "output_type": "stream",
     "text": [
      "Sum: 15\n",
      "Multiplication: 6.28\n",
      "Exponentiation: 100\n"
     ]
    }
   ],
   "source": [
    "# Math operations\n",
    "sum_result = my_int + 5\n",
    "mult_result = my_float * 2\n",
    "exp_result = my_int ** 2\n",
    "\n",
    "print(\"Sum:\", sum_result)\n",
    "print(\"Multiplication:\", mult_result)\n",
    "print(\"Exponentiation:\", exp_result)\n"
   ]
  },
  {
   "cell_type": "code",
   "execution_count": 5,
   "id": "2d47fddc-43d5-45e2-a8fd-9cc08ed11e50",
   "metadata": {},
   "outputs": [
    {
     "name": "stdout",
     "output_type": "stream",
     "text": [
      "The sum of 10 and 5 is 15.\n",
      "The result of multiplying 3.14 by 2 is 6.28.\n"
     ]
    }
   ],
   "source": [
    "# Formatted string\n",
    "print(f\"The sum of {my_int} and 5 is {sum_result}.\")\n",
    "print(f\"The result of multiplying {my_float} by 2 is {mult_result}.\")\n"
   ]
  },
  {
   "cell_type": "code",
   "execution_count": 6,
   "id": "7eda1979-c73b-46ad-9e17-25aeba55bf93",
   "metadata": {},
   "outputs": [
    {
     "data": {
      "text/plain": [
       "'\\nThis is a multi-line comment.\\nIt can span several lines.\\nUseful for documenting bigger blocks of code.\\n'"
      ]
     },
     "execution_count": 6,
     "metadata": {},
     "output_type": "execute_result"
    }
   ],
   "source": [
    "# This is a single-line comment explaining the code\n",
    "\n",
    "\"\"\"\n",
    "This is a multi-line comment.\n",
    "It can span several lines.\n",
    "Useful for documenting bigger blocks of code.\n",
    "\"\"\"\n"
   ]
  },
  {
   "cell_type": "markdown",
   "id": "a3dc8971-fcf2-4101-bd9e-fa1b8392eedd",
   "metadata": {},
   "source": [
    "✅ In this exercise, I practiced declaring different data types, performing math operations, printing output, and writing comments. This was a helpful introduction to Python's basics.\n"
   ]
  },
  {
   "cell_type": "code",
   "execution_count": null,
   "id": "1a1a4e27-c164-403d-b54b-613209405d12",
   "metadata": {},
   "outputs": [],
   "source": []
  }
 ],
 "metadata": {
  "kernelspec": {
   "display_name": "Python [conda env:base] *",
   "language": "python",
   "name": "conda-base-py"
  },
  "language_info": {
   "codemirror_mode": {
    "name": "ipython",
    "version": 3
   },
   "file_extension": ".py",
   "mimetype": "text/x-python",
   "name": "python",
   "nbconvert_exporter": "python",
   "pygments_lexer": "ipython3",
   "version": "3.12.7"
  }
 },
 "nbformat": 4,
 "nbformat_minor": 5
}
